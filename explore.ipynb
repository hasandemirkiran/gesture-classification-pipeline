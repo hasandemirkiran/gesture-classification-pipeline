{
 "cells": [
  {
   "cell_type": "code",
   "execution_count": 3,
   "metadata": {},
   "outputs": [],
   "source": [
    "import pandas as pd\n",
    "import torch\n",
    "import numpy as np"
   ]
  },
  {
   "cell_type": "code",
   "execution_count": 9,
   "metadata": {},
   "outputs": [],
   "source": [
    "# torch tensors\n",
    "accelaration = torch.load(\"data/acceleration.pt\", weights_only=True)\n",
    "gestures = torch.load(\"data/gestures.pt\", weights_only=True)\n",
    "users = torch.load(\"data/users.pt\", weights_only=True)\n",
    "\n",
    "# df\n",
    "u_wave_gestures = pd.read_parquet(\"data/uWaveGestures.parquet\", engine=\"pyarrow\")"
   ]
  },
  {
   "cell_type": "markdown",
   "metadata": {},
   "source": [
    "### Task 1"
   ]
  },
  {
   "cell_type": "markdown",
   "metadata": {},
   "source": [
    "#### Preprocessing"
   ]
  },
  {
   "cell_type": "code",
   "execution_count": 5,
   "metadata": {},
   "outputs": [],
   "source": [
    "from sklearn.preprocessing import StandardScaler\n",
    "from sklearn.preprocessing import MinMaxScaler\n",
    "from sklearn.model_selection import train_test_split\n",
    "from sklearn.metrics import classification_report\n",
    "\n",
    "# models\n",
    "from sklearn.linear_model import LogisticRegression\n",
    "from sklearn.ensemble import RandomForestClassifier\n",
    "from sklearn import neighbors\n",
    "\n",
    "from xgboost import XGBClassifier\n",
    "\n",
    "random_state = 0"
   ]
  },
  {
   "cell_type": "code",
   "execution_count": 6,
   "metadata": {},
   "outputs": [],
   "source": [
    "# drop NAs\n",
    "u_wave_gestures = u_wave_gestures.dropna(axis=0, how=\"any\")\n",
    "\n",
    "user = u_wave_gestures[\"user\"]\n",
    "\n",
    "X = u_wave_gestures.drop([\"gesture\", \"user\"], axis=1)\n",
    "y = u_wave_gestures[\"gesture\"]"
   ]
  },
  {
   "cell_type": "code",
   "execution_count": 7,
   "metadata": {},
   "outputs": [],
   "source": [
    "# Split data into training and testing sets\n",
    "X_train, X_test, y_train, y_test = train_test_split(X, y, test_size=0.2, random_state=42)"
   ]
  },
  {
   "cell_type": "code",
   "execution_count": 8,
   "metadata": {},
   "outputs": [],
   "source": [
    "# Scale numerical features\n",
    "scaler = StandardScaler()\n",
    "X_train_scaled = scaler.fit_transform(X_train)\n",
    "X_test_scaled = scaler.transform(X_test)\n",
    "\n",
    "# Scale MinMaxScaler\n",
    "scaler_minmax = MinMaxScaler()\n",
    "X_train_minmaxscaled = scaler_minmax.fit_transform(X_train)\n",
    "X_test_minmaxscaled = scaler_minmax.transform(X_test)\n",
    "\n",
    "# logistic regg acc\n",
    "# MinMaxScaler = 0.7310267857142857\n",
    "# StandardScaler = 0.8191964285714286"
   ]
  },
  {
   "cell_type": "markdown",
   "metadata": {},
   "source": [
    "#### Logistic Regression"
   ]
  },
  {
   "cell_type": "code",
   "execution_count": 92,
   "metadata": {},
   "outputs": [
    {
     "name": "stdout",
     "output_type": "stream",
     "text": [
      "              precision    recall  f1-score   support\n",
      "\n",
      "           1    0.83019   0.89796   0.86275        98\n",
      "           2    0.97222   0.92920   0.95023       113\n",
      "           3    0.72414   0.73684   0.73043       114\n",
      "           4    0.76068   0.74790   0.75424       119\n",
      "           5    0.80357   0.84906   0.82569       106\n",
      "           6    0.87255   0.79464   0.83178       112\n",
      "           7    0.78512   0.81897   0.80169       116\n",
      "           8    0.82456   0.79661   0.81034       118\n",
      "\n",
      "    accuracy                        0.81920       896\n",
      "   macro avg    0.82163   0.82140   0.82089       896\n",
      "weighted avg    0.82095   0.81920   0.81947       896\n",
      "\n"
     ]
    }
   ],
   "source": [
    "lr_clf = LogisticRegression(\n",
    "    random_state=random_state,\n",
    "    tol=0.0001,\n",
    "    solver=\"lbfgs\",  # [‘l2’, None]\n",
    "    max_iter=10000,\n",
    ")\n",
    "\n",
    "lr_clf.fit(X_train_scaled, y_train)\n",
    "\n",
    "# predicted labels for test set\n",
    "lr_y_predict = lr_clf.predict(X_test_scaled)\n",
    "\n",
    "print(classification_report(y_true=y_test, y_pred=lr_y_predict, digits=5))"
   ]
  },
  {
   "cell_type": "markdown",
   "metadata": {},
   "source": [
    "#### Random Forest Classifier"
   ]
  },
  {
   "cell_type": "code",
   "execution_count": 97,
   "metadata": {},
   "outputs": [
    {
     "name": "stdout",
     "output_type": "stream",
     "text": [
      "              precision    recall  f1-score   support\n",
      "\n",
      "           1    0.92929   0.93878   0.93401        98\n",
      "           2    0.93860   0.94690   0.94273       113\n",
      "           3    0.84167   0.88596   0.86325       114\n",
      "           4    0.88393   0.83193   0.85714       119\n",
      "           5    0.79464   0.83962   0.81651       106\n",
      "           6    0.83810   0.78571   0.81106       112\n",
      "           7    0.88596   0.87069   0.87826       116\n",
      "           8    0.88333   0.89831   0.89076       118\n",
      "\n",
      "    accuracy                        0.87388       896\n",
      "   macro avg    0.87444   0.87474   0.87422       896\n",
      "weighted avg    0.87430   0.87388   0.87371       896\n",
      "\n"
     ]
    }
   ],
   "source": [
    "rf_clf = RandomForestClassifier(\n",
    "    random_state=random_state,\n",
    "    n_estimators=100,\n",
    "    criterion=\"gini\",\n",
    "    max_depth=None,\n",
    "    bootstrap=True,\n",
    ")\n",
    "\n",
    "# random forest doens't require normalization\n",
    "\n",
    "rf_clf.fit(X_train, y_train)\n",
    "\n",
    "# predicted labels for test set\n",
    "rf_y_predict = rf_clf.predict(X_test)\n",
    "\n",
    "print(classification_report(y_true=y_test, y_pred=rf_y_predict, digits=5))"
   ]
  },
  {
   "cell_type": "markdown",
   "metadata": {},
   "source": [
    "#### K-Nearest-Neigbours"
   ]
  },
  {
   "cell_type": "code",
   "execution_count": 101,
   "metadata": {},
   "outputs": [
    {
     "name": "stdout",
     "output_type": "stream",
     "text": [
      "              precision    recall  f1-score   support\n",
      "\n",
      "           1    0.86916   0.94898   0.90732        98\n",
      "           2    0.96552   0.99115   0.97817       113\n",
      "           3    0.83193   0.86842   0.84979       114\n",
      "           4    0.88073   0.80672   0.84211       119\n",
      "           5    0.83333   0.84906   0.84112       106\n",
      "           6    0.87736   0.83036   0.85321       112\n",
      "           7    0.92105   0.90517   0.91304       116\n",
      "           8    0.92308   0.91525   0.91915       118\n",
      "\n",
      "    accuracy                        0.88839       896\n",
      "   macro avg    0.88777   0.88939   0.88799       896\n",
      "weighted avg    0.88872   0.88839   0.88798       896\n",
      "\n"
     ]
    }
   ],
   "source": [
    "knn = neighbors.KNeighborsClassifier(\n",
    "    n_neighbors=5, weights=\"uniform\", algorithm=\"auto\", leaf_size=30, p=2, metric=\"minkowski\"\n",
    ")\n",
    "\n",
    "knn.fit(X_train_scaled, y_train)\n",
    "\n",
    "# predicted labels for test set\n",
    "knn_y_predict = knn.predict(X_test_scaled)\n",
    "\n",
    "print(classification_report(y_true=y_test, y_pred=knn_y_predict, digits=5))"
   ]
  },
  {
   "cell_type": "markdown",
   "metadata": {},
   "source": [
    "#### XGBoost "
   ]
  },
  {
   "cell_type": "code",
   "execution_count": 9,
   "metadata": {},
   "outputs": [],
   "source": [
    "import xgboost as xgb\n",
    "from sklearn.pipeline import Pipeline\n",
    "from sklearn.model_selection import GridSearchCV\n",
    "\n",
    "# Subtract 1 from y_train and y_test to ensure zero-based indexing\n",
    "y_train_zero_indexed = y_train - 1\n",
    "y_test_zero_indexed = y_test - 1\n",
    "\n",
    "# Define XGBoost classifier\n",
    "xgb_classifier = xgb.XGBClassifier()"
   ]
  },
  {
   "cell_type": "code",
   "execution_count": 110,
   "metadata": {},
   "outputs": [
    {
     "name": "stderr",
     "output_type": "stream",
     "text": [
      "/opt/homebrew/Caskroom/miniconda/base/envs/celonis/lib/python3.12/site-packages/joblib/externals/loky/process_executor.py:752: UserWarning: A worker stopped while some jobs were given to the executor. This can be caused by a too short worker timeout or by a memory leak.\n",
      "  warnings.warn(\n"
     ]
    },
    {
     "name": "stdout",
     "output_type": "stream",
     "text": [
      "Best parameters found: {'clf__learning_rate': 0.1, 'clf__max_depth': 5, 'clf__n_estimators': 400}\n",
      "Best score found: 0.8874956172132489\n",
      "Test set score: 0.8995535714285714\n"
     ]
    }
   ],
   "source": [
    "# Define parameter grid for hyperparameter tuning\n",
    "param_grid = {\n",
    "    \"clf__n_estimators\": [100, 200, 300, 400, 500],\n",
    "    \"clf__max_depth\": [3, 5, 7, 9, 11],\n",
    "    \"clf__learning_rate\": [0.1, 0.01, 0.001],\n",
    "}\n",
    "\n",
    "# Create pipeline\n",
    "pipeline = Pipeline([(\"clf\", xgb_classifier)])\n",
    "\n",
    "# Perform GridSearchCV\n",
    "grid_search = GridSearchCV(pipeline, param_grid, cv=5, n_jobs=-1)\n",
    "\n",
    "# Fit the model using zero-indexed y_train\n",
    "grid_search.fit(X_train, y_train_zero_indexed)\n",
    "\n",
    "# Best parameters and best score\n",
    "print(\"Best parameters found:\", grid_search.best_params_)\n",
    "print(\"Best score found:\", grid_search.best_score_)\n",
    "\n",
    "# Evaluate on test set using zero-indexed y_test\n",
    "test_score = grid_search.score(X_test, y_test_zero_indexed)\n",
    "print(\"Test set score:\", test_score)"
   ]
  },
  {
   "cell_type": "code",
   "execution_count": 10,
   "metadata": {},
   "outputs": [
    {
     "name": "stdout",
     "output_type": "stream",
     "text": [
      "              precision    recall  f1-score   support\n",
      "\n",
      "           0    0.92233   0.96939   0.94527        98\n",
      "           1    0.97345   0.97345   0.97345       113\n",
      "           2    0.84800   0.92982   0.88703       114\n",
      "           3    0.92661   0.84874   0.88596       119\n",
      "           4    0.84545   0.87736   0.86111       106\n",
      "           5    0.87850   0.83929   0.85845       112\n",
      "           6    0.90351   0.88793   0.89565       116\n",
      "           7    0.90435   0.88136   0.89270       118\n",
      "\n",
      "    accuracy                        0.89955       896\n",
      "   macro avg    0.90028   0.90092   0.89995       896\n",
      "weighted avg    0.90051   0.89955   0.89938       896\n",
      "\n"
     ]
    }
   ],
   "source": [
    "xgb_clf = xgb.XGBClassifier(n_estimators=400, max_depth=5, learning_rate=0.1)\n",
    "\n",
    "xgb_clf.fit(X_train, y_train_zero_indexed)\n",
    "\n",
    "xgb_y_predict = xgb_clf.predict(X_test)\n",
    "\n",
    "print(classification_report(y_true=y_test_zero_indexed, y_pred=xgb_y_predict, digits=5))"
   ]
  },
  {
   "cell_type": "markdown",
   "metadata": {},
   "source": [
    "---"
   ]
  },
  {
   "cell_type": "code",
   "execution_count": 131,
   "metadata": {},
   "outputs": [],
   "source": [
    "# Save 5 test data\n",
    "X_test.iloc[0:10].to_pickle(\"test_data/X_test_1.pkl\")\n",
    "X_test.iloc[10:20].to_pickle(\"test_data/X_test_2.pkl\")\n",
    "X_test.iloc[20:30].to_pickle(\"test_data/X_test_3.pkl\")\n",
    "X_test.iloc[30:40].to_pickle(\"test_data/X_test_4.pkl\")\n",
    "X_test.iloc[40:50].to_pickle(\"test_data/X_test_5.pkl\")"
   ]
  },
  {
   "cell_type": "code",
   "execution_count": 11,
   "metadata": {},
   "outputs": [],
   "source": [
    "# Save extend data\n",
    "u_wave_gestures.iloc[0:10].to_pickle(\"extend_data/extend_1.pkl\")"
   ]
  }
 ],
 "metadata": {
  "kernelspec": {
   "display_name": "base",
   "language": "python",
   "name": "python3"
  },
  "language_info": {
   "codemirror_mode": {
    "name": "ipython",
    "version": 3
   },
   "file_extension": ".py",
   "mimetype": "text/x-python",
   "name": "python",
   "nbconvert_exporter": "python",
   "pygments_lexer": "ipython3",
   "version": "3.12.2"
  }
 },
 "nbformat": 4,
 "nbformat_minor": 2
}
